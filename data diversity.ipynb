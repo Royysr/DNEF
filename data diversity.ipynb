{
 "cells": [
  {
   "cell_type": "code",
   "execution_count": 1,
   "metadata": {},
   "outputs": [],
   "source": [
    "import numpy as np\n",
    "import matplotlib.pyplot as plt\n",
    "import seaborn as sns\n",
    "import math\n",
    "import pandas as pd\n",
    "from rdkit.Chem import MolStandardize,rdmolops,MACCSkeys,ChemicalFeatures,AllChem,Descriptors,Lipinski\n",
    "from rdkit.Chem.Descriptors import rdMolDescriptors\n",
    "from rdkit import Chem\n",
    "from matplotlib.font_manager import FontProperties\n",
    "import matplotlib.ticker as ticker"
   ]
  },
  {
   "cell_type": "code",
   "execution_count": 74,
   "metadata": {},
   "outputs": [],
   "source": [
    "database = pd.read_csv('**.csv',encoding='gbk')\n",
    "smiles = list(database.iloc[:,0])"
   ]
  },
  {
   "cell_type": "code",
   "execution_count": null,
   "metadata": {},
   "outputs": [],
   "source": [
    "# the number of rings\n",
    "def cal_rings(smi_list):\n",
    "    ring_list = []\n",
    "    for smi in smi_list:\n",
    "        m = Chem.MolFromSmiles(smi)\n",
    "        ring_list.append(m.GetRingInfo().NumRings())\n",
    "    print('maximum',max(ring_list),'minimum',min(ring_list),'average',sum(ring_list)/len(ring_list))\n",
    "    return ring_list\n",
    "ring = cal_rings(smiles)\n",
    "\n",
    "# draw distribution\n",
    "plt.figure(figsize=(8, 6),dpi=500)\n",
    "plt.hist(ring, bins=np.arange(2, 10) - 0.5, color='#A8BCBA', edgecolor='black',align='mid') #50697D\n",
    "plt.xticks(np.arange(2, 9, 2), fontsize=30,fontname='arial')  # \n",
    "def thousands_formatter(x, pos):\n",
    "    return f'{int(x / 1000)}'\n",
    "plt.gca().yaxis.set_major_formatter(ticker.FuncFormatter(thousands_formatter))\n",
    "plt.yticks(fontsize=30, fontname='arial')\n",
    "plt.show()"
   ]
  },
  {
   "cell_type": "code",
   "execution_count": null,
   "metadata": {},
   "outputs": [],
   "source": [
    "# the number of atoms\n",
    "def cal_atom_num(smi_list):\n",
    "    count_list = []\n",
    "    for smi in smi_list:\n",
    "        m = Chem.AddHs(Chem.MolFromSmiles(smi))\n",
    "        c = m.GetNumAtoms()\n",
    "        count_list.append(c)\n",
    "    print('maximum',max(count_list),'minimum',min(count_list),'average',sum(count_list)/len(count_list))\n",
    "    return count_list\n",
    "count = cal_atom_num(smiles)\n",
    "# draw distribution\n",
    "plt.figure(figsize=(8, 6),dpi=500)\n",
    "plt.hist(count, bins=np.arange(15, 54) - 0.5, color='#D9CFE7', edgecolor='black',align='mid') #50697D\n",
    "plt.xticks(np.arange(15, 53, 6), fontsize=30,fontname='arial')  #\n",
    "def thousands_formatter(x, pos):\n",
    "    return f'{int(x / 1000)}'\n",
    "plt.gca().yaxis.set_major_formatter(ticker.FuncFormatter(thousands_formatter))\n",
    "plt.yticks(fontsize=30,fontname='arial')\n",
    "plt.show()"
   ]
  },
  {
   "cell_type": "code",
   "execution_count": null,
   "metadata": {},
   "outputs": [],
   "source": [
    "# the number of rotatable bonds\n",
    "def get_rotatable_bonds(smi_list):\n",
    "    rotatable_bonds_num = []\n",
    "    for smi in smi_list:\n",
    "        mol = Chem.AddHs(Chem.MolFromSmiles(smi))\n",
    "        rotatable_bonds_num.append(Lipinski.NumRotatableBonds(mol))\n",
    "    print('maximum',max(rotatable_bonds_num),'minimum',min(rotatable_bonds_num),'average',sum(rotatable_bonds_num)/len(rotatable_bonds_num))\n",
    "    return rotatable_bonds_num\n",
    "count_bonds = get_rotatable_bonds(smiles)\n",
    "# draw distributions\n",
    "plt.figure(figsize=(8, 6),dpi=500)\n",
    "#plt.hist(count_bonds, bins=np.arange(0, 2) - 0.5, color='#ACC66D', edgecolor='black',align='mid') #50697D\n",
    "plt.hist(count_bonds, bins=5, color='#ACC66D', edgecolor='black',align='mid') #50697D\n",
    "plt.xticks(np.arange(0, 1, 1), fontsize=30,fontname='arial')  # \n",
    "def thousands_formatter(x, pos):\n",
    "    return f'{int(x / 1000)}'\n",
    "plt.gca().yaxis.set_major_formatter(ticker.FuncFormatter(thousands_formatter))\n",
    "plt.yticks(fontsize=30,fontname='arial')\n",
    "plt.show()"
   ]
  },
  {
   "cell_type": "code",
   "execution_count": null,
   "metadata": {},
   "outputs": [],
   "source": [
    "# the type of symbols\n",
    "def cal_symbol(mol):\n",
    "    symbol = []\n",
    "    m = Chem.RemoveHs(mol)\n",
    "    #\n",
    "    for atom in mol.GetAtoms():\n",
    "        symbol.append(atom.GetSymbol())\n",
    "    symbol = set(symbol)\n",
    "    return list(symbol)\n",
    "def get_data_symbol(smi_list):\n",
    "    symbol_list = []\n",
    "    for smi in smi_list:\n",
    "        symbol = cal_symbol(Chem.MolFromSmiles(smi))\n",
    "        symbol_list.append(symbol)\n",
    "    print(set(sum(symbol_list,[])))\n",
    "    return 0\n",
    "_ = get_data_symbol(smiles)"
   ]
  }
 ],
 "metadata": {
  "kernelspec": {
   "display_name": "Python 3.7.13 ('pytorch')",
   "language": "python",
   "name": "python3"
  },
  "language_info": {
   "codemirror_mode": {
    "name": "ipython",
    "version": 3
   },
   "file_extension": ".py",
   "mimetype": "text/x-python",
   "name": "python",
   "nbconvert_exporter": "python",
   "pygments_lexer": "ipython3",
   "version": "3.7.13"
  },
  "orig_nbformat": 4,
  "vscode": {
   "interpreter": {
    "hash": "bedf906f570869ca9ddb27dfc132079d2a664bc48cb1a53753879dbf536187ab"
   }
  }
 },
 "nbformat": 4,
 "nbformat_minor": 2
}
