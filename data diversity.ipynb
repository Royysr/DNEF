{
 "cells": [
  {
   "cell_type": "code",
   "execution_count": null,
   "metadata": {},
   "outputs": [],
   "source": [
    "import numpy as np\n",
    "import matplotlib.pyplot as plt\n",
    "import seaborn as sns\n",
    "import math\n",
    "import pandas as pd\n",
    "from rdkit.Chem import MolStandardize,rdmolops,MACCSkeys,ChemicalFeatures,AllChem,Descriptors,Lipinski\n",
    "from rdkit.Chem.Descriptors import rdMolDescriptors\n",
    "from rdkit import Chem\n",
    "from matplotlib.font_manager import FontProperties"
   ]
  },
  {
   "cell_type": "code",
   "execution_count": null,
   "metadata": {},
   "outputs": [],
   "source": [
    "database = pd.read_csv('**.csv') # put your own data path\n",
    "smiles = list(database.iloc[:,0])"
   ]
  },
  {
   "cell_type": "code",
   "execution_count": null,
   "metadata": {},
   "outputs": [],
   "source": [
    "# the number of aromatic rings\n",
    "def cal_rings(smi_list):\n",
    "    ring_list = []\n",
    "    for smi in smi_list:\n",
    "        m = Chem.MolFromSmiles(smi)\n",
    "        ring_info = m.GetRingInfo()\n",
    "        atoms_in_rings = ring_info.AtomRings()\n",
    "        #aromatic ring\n",
    "        num_aromatic_ring = 0\n",
    "        for ring in atoms_in_rings:\n",
    "            aromatic_atom_in_ring = 0\n",
    "            for atom_id in ring:\n",
    "                atom = m.GetAtomWithIdx(atom_id)\n",
    "                if atom.GetIsAromatic():\n",
    "                    aromatic_atom_in_ring += 1\n",
    "            if aromatic_atom_in_ring == len(ring):\n",
    "                num_aromatic_ring += 1\n",
    "        ring_list.append(num_aromatic_ring)\n",
    "    print('maximum',max(ring_list),'minimum',min(ring_list),'average',sum(ring_list)/len(ring_list))\n",
    "    return ring_list\n",
    "ring = cal_rings(smiles)\n",
    "# draw distribution\n",
    "plt.figure(figsize=(8, 6))\n",
    "plt.hist(ring, bins=5, color='#50697D', edgecolor='black')\n",
    "plt.xticks(np.arange(0, 5, 1), fontsize=20)  # \n",
    "plt.yticks(fontsize=20)\n",
    "plt.show()"
   ]
  },
  {
   "cell_type": "code",
   "execution_count": null,
   "metadata": {},
   "outputs": [],
   "source": [
    "# molecular weight \n",
    "def cal_molwt(smi_list):\n",
    "    weight_list = []\n",
    "    for smi in smi_list:\n",
    "        m = Chem.AddHs(Chem.MolFromSmiles(smi))\n",
    "        w = Descriptors.MolWt(m)\n",
    "        weight_list.append(w)\n",
    "    print('maximum',max(weight_list),'minimum',min(weight_list),'average',sum(weight_list)/len(weight_list))\n",
    "\n",
    "    return weight_list\n",
    "molwt = cal_molwt(smiles)\n",
    "# draw distribution\n",
    "plt.figure(figsize=(8, 6))\n",
    "plt.hist(molwt, bins=12, color='#50697D', edgecolor='black')\n",
    "plt.xticks(fontsize=20)  \n",
    "plt.yticks(fontsize=20)\n",
    "plt.show()"
   ]
  },
  {
   "cell_type": "code",
   "execution_count": null,
   "metadata": {},
   "outputs": [],
   "source": [
    "# the number of atoms\n",
    "def cal_atom_num(smi_list):\n",
    "    count_list = []\n",
    "    for smi in smi_list:\n",
    "        m = Chem.AddHs(Chem.MolFromSmiles(smi))\n",
    "        c = m.GetNumAtoms()\n",
    "        count_list.append(c)\n",
    "    print('maximum',max(count_list),'minimum',min(count_list),'average',sum(count_list)/len(count_list))\n",
    "    return count_list\n",
    "count = cal_atom_num(smiles)\n",
    "# draw distribution\n",
    "plt.figure(figsize=(8, 6))\n",
    "plt.hist(count, bins=16, color='#50697D', edgecolor='black')  #4 16\n",
    "plt.xticks(np.arange(12, 36, 3), fontsize=20)  #\n",
    "plt.yticks(fontsize=20)\n",
    "plt.show()"
   ]
  },
  {
   "cell_type": "code",
   "execution_count": null,
   "metadata": {},
   "outputs": [],
   "source": [
    "# the number of rotatable bonds\n",
    "def get_rotatable_bonds(smi_list):\n",
    "    rotatable_bonds_num = []\n",
    "    for smi in smi_list:\n",
    "        mol = Chem.AddHs(Chem.MolFromSmiles(smi))\n",
    "        rotatable_bonds_num.append(Lipinski.NumRotatableBonds(mol))\n",
    "    print('maximum',max(rotatable_bonds_num),'minimum',min(rotatable_bonds_num),'average',sum(rotatable_bonds_num)/len(rotatable_bonds_num))\n",
    "    return rotatable_bonds_num\n",
    "count_bonds = get_rotatable_bonds(smiles)\n",
    "# draw\n",
    "plt.figure(figsize=(8, 6))\n",
    "plt.hist(count_bonds, bins=2, color='#50697D', edgecolor='black')     #10\n",
    "plt.xticks(np.arange(0, 2, 1), fontsize=20)  # \n",
    "plt.yticks(fontsize=20)\n",
    "plt.show()"
   ]
  },
  {
   "cell_type": "code",
   "execution_count": null,
   "metadata": {},
   "outputs": [],
   "source": [
    "# type of elements\n",
    "def cal_symbol(mol):\n",
    "    symbol = []\n",
    "    m = Chem.RemoveHs(mol)\n",
    "    #\n",
    "    for atom in mol.GetAtoms():\n",
    "        symbol.append(atom.GetSymbol())\n",
    "    symbol = set(symbol)\n",
    "    return list(symbol)\n",
    "\n",
    "def get_data_symbol(smi_list):\n",
    "    symbol_list = []\n",
    "    for smi in smi_list:\n",
    "        symbol = cal_symbol(Chem.MolFromSmiles(smi))\n",
    "        symbol_list.append(symbol)\n",
    "    print(set(sum(symbol_list,[])))\n",
    "\n",
    "    return 0\n",
    "_ = get_data_symbol(smiles)"
   ]
  }
 ],
 "metadata": {
  "kernelspec": {
   "display_name": "Python 3.9.12 64-bit",
   "language": "python",
   "name": "python3"
  },
  "language_info": {
   "name": "python",
   "version": "3.9.12"
  },
  "orig_nbformat": 4,
  "vscode": {
   "interpreter": {
    "hash": "aee8b7b246df8f9039afb4144a1f6fd8d2ca17a180786b69acc140d282b71a49"
   }
  }
 },
 "nbformat": 4,
 "nbformat_minor": 2
}
